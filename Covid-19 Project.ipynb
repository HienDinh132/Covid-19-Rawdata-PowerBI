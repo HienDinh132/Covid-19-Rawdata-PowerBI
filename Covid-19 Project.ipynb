{
 "cells": [
  {
   "cell_type": "markdown",
   "id": "1bbe9631",
   "metadata": {},
   "source": [
    "# File data raw Covid-19 Project"
   ]
  },
  {
   "cell_type": "markdown",
   "id": "2ae999ad",
   "metadata": {},
   "source": [
    "https://drive.google.com/file/d/1qX5plrYALcVFPv7-vErA6ZdzxaVvb95S/view?usp=sharing\n",
    "\n",
    "https://drive.google.com/file/d/1IMPKaYMxMI6U5GcP7AswQ8R8guRQ4ZhP/view?usp=sharing"
   ]
  },
  {
   "cell_type": "markdown",
   "id": "f965853f",
   "metadata": {},
   "source": [
    "# Link Power BI Covid-19 Project"
   ]
  },
  {
   "cell_type": "markdown",
   "id": "6e56e2ab",
   "metadata": {},
   "source": [
    "https://app.powerbi.com/view?r=eyJrIjoiOTlhYzM2OTItN2E2YS00ZjMyLWFlMDAtM2JiY2JkMTVhYTJhIiwidCI6ImFmMWYzNzUzLTM5MjUtNGU2Zi05NDliLTk3YzAwNzMyMDgwMyIsImMiOjEwfQ%3D%3D"
   ]
  }
 ],
 "metadata": {
  "kernelspec": {
   "display_name": "Python 3 (ipykernel)",
   "language": "python",
   "name": "python3"
  },
  "language_info": {
   "codemirror_mode": {
    "name": "ipython",
    "version": 3
   },
   "file_extension": ".py",
   "mimetype": "text/x-python",
   "name": "python",
   "nbconvert_exporter": "python",
   "pygments_lexer": "ipython3",
   "version": "3.9.13"
  }
 },
 "nbformat": 4,
 "nbformat_minor": 5
}
